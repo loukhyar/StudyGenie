{
 "cells": [
  {
   "cell_type": "code",
   "execution_count": null,
   "metadata": {},
   "outputs": [],
   "source": [
    "def create_recommendation_prompt(student_data):\n",
    "    \"\"\"\n",
    "    Creates a structured prompt for educational recommendations based on student data.\n",
    "    \n",
    "    Args:\n",
    "        student_data (dict): Dictionary containing student profile information\n",
    "    \n",
    "    Returns:\n",
    "        str: Formatted prompt for the Llama 3 model\n",
    "    \"\"\"\n",
    "    # Extract student information\n",
    "    grade = student_data.get(\"grade\", \"unknown\")\n",
    "    learning_style = student_data.get(\"learning_style\", \"unknown\")\n",
    "    strengths = student_data.get(\"academic_strengths\", [])\n",
    "    challenges = student_data.get(\"academic_challenges\", [])\n",
    "    study_preferences = student_data.get(\"study_preferences\", [])\n",
    "    \n",
    "    # Format strengths and challenges as comma-separated lists\n",
    "    strengths_text = \", \".join(strengths) if strengths else \"none specified\"\n",
    "    challenges_text = \", \".join(challenges) if challenges else \"none specified\"\n",
    "    preferences_text = \", \".join(study_preferences) if study_preferences else \"no specific preferences\"\n",
    "    \n",
    "    # Create the structured prompt\n",
    "    prompt = f\"\"\"As an educational AI assistant specializing in personalized learning for students in grades 8-10, provide detailed recommendations for the following student:\n",
    "\n",
    "STUDENT PROFILE:\n",
    "- Grade Level: {grade}\n",
    "- Learning Style: {learning_style}\n",
    "- Academic Strengths: {strengths_text}\n",
    "- Academic Challenges: {challenges_text}\n",
    "- Study Preferences: {preferences_text}\n",
    "\n",
    "Please provide a comprehensive learning plan with the following sections:\n",
    "1. LEARNING APPROACH: Specific study techniques that match this student's learning style and preferences\n",
    "2. RESOURCE RECOMMENDATIONS: Digital tools, apps, or websites that address their specific challenges\n",
    "3. STUDY ENVIRONMENT: Suggestions for optimizing their study space and time management\n",
    "4. OVERCOMING CHALLENGES: Targeted strategies to address their specific academic challenges\n",
    "5. BUILDING ON STRENGTHS: Ways to leverage their strengths to improve overall academic performance\n",
    "\n",
    "Keep recommendations practical, age-appropriate for a grade {grade} student, and focused on measurable improvement.\n",
    "\"\"\"\n",
    "    return prompt"
   ]
  },
  {
   "cell_type": "code",
   "execution_count": null,
   "metadata": {},
   "outputs": [],
   "source": []
  }
 ],
 "metadata": {
  "kernelspec": {
   "display_name": "Python 3",
   "language": "python",
   "name": "python3"
  },
  "language_info": {
   "codemirror_mode": {
    "name": "ipython",
    "version": 3
   },
   "file_extension": ".py",
   "mimetype": "text/x-python",
   "name": "python",
   "nbconvert_exporter": "python",
   "pygments_lexer": "ipython3",
   "version": "3.12.3"
  }
 },
 "nbformat": 4,
 "nbformat_minor": 2
}
